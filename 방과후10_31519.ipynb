{
  "nbformat": 4,
  "nbformat_minor": 0,
  "metadata": {
    "colab": {
      "name": "방과후10_31519.ipynb",
      "provenance": [],
      "authorship_tag": "ABX9TyPv/nTsC2Go9Sq0xUwaoSQ3",
      "include_colab_link": true
    },
    "kernelspec": {
      "name": "python3",
      "display_name": "Python 3"
    }
  },
  "cells": [
    {
      "cell_type": "markdown",
      "metadata": {
        "id": "view-in-github",
        "colab_type": "text"
      },
      "source": [
        "<a href=\"https://colab.research.google.com/github/choeujong/test_AI/blob/master/%EB%B0%A9%EA%B3%BC%ED%9B%8410_31519.ipynb\" target=\"_parent\"><img src=\"https://colab.research.google.com/assets/colab-badge.svg\" alt=\"Open In Colab\"/></a>"
      ]
    },
    {
      "cell_type": "markdown",
      "metadata": {
        "id": "ogprR5rXEFdG",
        "colab_type": "text"
      },
      "source": [
        "이ㅏ허미ㅏㅎㅁㄷ기"
      ]
    },
    {
      "cell_type": "code",
      "metadata": {
        "id": "hmGpKlRFEGbC",
        "colab_type": "code",
        "colab": {
          "base_uri": "https://localhost:8080/",
          "height": 35
        },
        "outputId": "b2ac1e71-8c9c-441a-eff3-1d9b743919af"
      },
      "source": [
        "print(\"Hello Github\")"
      ],
      "execution_count": 1,
      "outputs": [
        {
          "output_type": "stream",
          "text": [
            "Hello Github\n"
          ],
          "name": "stdout"
        }
      ]
    }
  ]
}